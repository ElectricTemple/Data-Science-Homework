{
 "cells": [
  {
   "cell_type": "markdown",
   "id": "09245ad5-bca2-4a48-ad1f-c154909018e4",
   "metadata": {
    "tags": []
   },
   "source": [
    "# Data Science Tools and Ecosystem"
   ]
  },
  {
   "cell_type": "markdown",
   "id": "cf14da92-69b7-449f-a921-1233546837e5",
   "metadata": {},
   "source": [
    "In this notebook, Data Science Tools and Ecosystem are summarized."
   ]
  },
  {
   "cell_type": "markdown",
   "id": "dee83ab3-54c8-4d70-a34a-97d1b90d5411",
   "metadata": {
    "tags": []
   },
   "source": [
    "__Objectives:__ \n",
    "\n",
    "+ List popular languages for Data Science\n",
    "+ Commonly used libraries used by Data Scientists\n",
    "+ examples of evaluating arithmetic expressions in Python"
   ]
  },
  {
   "cell_type": "markdown",
   "id": "7420551f-7c1b-4156-8f0a-09a28f186f07",
   "metadata": {
    "tags": []
   },
   "source": [
    "Some of the popular languages that Data Scientists use are:\n",
    "    \n",
    "    1. SQL\n",
    "    2. Python\n",
    "    3. R"
   ]
  },
  {
   "cell_type": "markdown",
   "id": "588c6171-a7e3-43c0-b956-f3a2856785b7",
   "metadata": {},
   "source": [
    "Some of the commonly used libraries used by Data Scientists include:\n",
    "    1. NumPy\n",
    "    2. Pandas\n",
    "    3. SciPy\n",
    "    \n",
    "| Data Science Tools |\n",
    "| --- |\n",
    "| Apache Spark |\n",
    "| Julia |\n",
    "| Pandas |"
   ]
  },
  {
   "cell_type": "markdown",
   "id": "d5643a10-8579-4796-8a8a-9b29bcfccee7",
   "metadata": {
    "tags": []
   },
   "source": [
    "### Below are a few examples of evaluating arithmetic expressions in Python ###"
   ]
  },
  {
   "cell_type": "code",
   "execution_count": 33,
   "id": "6950d3b4-0865-4d67-8976-6739085e8c27",
   "metadata": {
    "tags": []
   },
   "outputs": [
    {
     "data": {
      "text/plain": [
       "17"
      ]
     },
     "execution_count": 33,
     "metadata": {},
     "output_type": "execute_result"
    }
   ],
   "source": [
    "# This a simple arithmetic expression to mutiply then add integers\n",
    "(3*4)+5"
   ]
  },
  {
   "cell_type": "code",
   "execution_count": 35,
   "id": "11980a4f-86c6-4171-82ed-36f40a9eb2a2",
   "metadata": {
    "tags": []
   },
   "outputs": [
    {
     "data": {
      "text/plain": [
       "3.3333333333333335"
      ]
     },
     "execution_count": 35,
     "metadata": {},
     "output_type": "execute_result"
    }
   ],
   "source": [
    "# This will convert 200 minutes to hours by diving by 60\n",
    "200/ 60"
   ]
  },
  {
   "cell_type": "markdown",
   "id": "0a1d104f-0c6a-4d15-971a-add65afa4136",
   "metadata": {},
   "source": [
    "## Author ##\n",
    "Greg Osti"
   ]
  },
  {
   "cell_type": "code",
   "execution_count": null,
   "id": "c8d888b4-ad58-470c-b773-666279a580b5",
   "metadata": {},
   "outputs": [],
   "source": []
  }
 ],
 "metadata": {
  "kernelspec": {
   "display_name": "Python 3 (ipykernel)",
   "language": "python",
   "name": "python3"
  },
  "language_info": {
   "codemirror_mode": {
    "name": "ipython",
    "version": 3
   },
   "file_extension": ".py",
   "mimetype": "text/x-python",
   "name": "python",
   "nbconvert_exporter": "python",
   "pygments_lexer": "ipython3",
   "version": "3.11.7"
  }
 },
 "nbformat": 4,
 "nbformat_minor": 5
}
